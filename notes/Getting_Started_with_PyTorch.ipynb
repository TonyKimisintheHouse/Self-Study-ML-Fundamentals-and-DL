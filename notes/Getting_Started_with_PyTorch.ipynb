{
  "nbformat": 4,
  "nbformat_minor": 0,
  "metadata": {
    "colab": {
      "name": "Getting Started with PyTorch.ipynb",
      "provenance": [],
      "authorship_tag": "ABX9TyOJZGL8xbpfuGm/yeENAojE",
      "include_colab_link": true
    },
    "kernelspec": {
      "name": "python3",
      "display_name": "Python 3"
    }
  },
  "cells": [
    {
      "cell_type": "markdown",
      "metadata": {
        "id": "view-in-github",
        "colab_type": "text"
      },
      "source": [
        "<a href=\"https://colab.research.google.com/github/TonyKimisintheHouse/Self-Study-ML-Fundamentals-and-DL/blob/master/notes/Getting_Started_with_PyTorch.ipynb\" target=\"_parent\"><img src=\"https://colab.research.google.com/assets/colab-badge.svg\" alt=\"Open In Colab\"/></a>"
      ]
    },
    {
      "cell_type": "markdown",
      "metadata": {
        "id": "SeuqOuas91Q2",
        "colab_type": "text"
      },
      "source": [
        "# Getting started with PyTorch"
      ]
    },
    {
      "cell_type": "code",
      "metadata": {
        "id": "c7LHQB8T93oP",
        "colab_type": "code",
        "colab": {}
      },
      "source": [
        "import torch"
      ],
      "execution_count": 0,
      "outputs": []
    },
    {
      "cell_type": "markdown",
      "metadata": {
        "id": "a93X69OvCNcm",
        "colab_type": "text"
      },
      "source": [
        "## Creating tensors on PyTorch"
      ]
    },
    {
      "cell_type": "code",
      "metadata": {
        "id": "1NRe7nZC9-o5",
        "colab_type": "code",
        "colab": {
          "base_uri": "https://localhost:8080/",
          "height": 119
        },
        "outputId": "5b46b3b4-80fd-4b3b-9624-4ceadd0cd3d4"
      },
      "source": [
        "print(torch.cuda.is_available())\n",
        "print(torch.rand(2,2,))\n",
        "\n",
        "x = torch.tensor([[0,0,1],[1,1,1],[0,0,0]])\n",
        "x"
      ],
      "execution_count": 9,
      "outputs": [
        {
          "output_type": "stream",
          "text": [
            "False\n",
            "tensor([[0.9022, 0.7105],\n",
            "        [0.2474, 0.1506]])\n"
          ],
          "name": "stdout"
        },
        {
          "output_type": "execute_result",
          "data": {
            "text/plain": [
              "tensor([[0, 0, 1],\n",
              "        [1, 1, 1],\n",
              "        [0, 0, 0]])"
            ]
          },
          "metadata": {
            "tags": []
          },
          "execution_count": 9
        }
      ]
    },
    {
      "cell_type": "code",
      "metadata": {
        "id": "-_jiMMI0-BeG",
        "colab_type": "code",
        "colab": {}
      },
      "source": [
        "x[0][0] = 5"
      ],
      "execution_count": 0,
      "outputs": []
    },
    {
      "cell_type": "code",
      "metadata": {
        "id": "Iw9qK5Ll-eaS",
        "colab_type": "code",
        "colab": {
          "base_uri": "https://localhost:8080/",
          "height": 68
        },
        "outputId": "d7ec18bf-ebd7-4133-f644-a7c5bf5c95c8"
      },
      "source": [
        "x"
      ],
      "execution_count": 11,
      "outputs": [
        {
          "output_type": "execute_result",
          "data": {
            "text/plain": [
              "tensor([[5, 0, 1],\n",
              "        [1, 1, 1],\n",
              "        [0, 0, 0]])"
            ]
          },
          "metadata": {
            "tags": []
          },
          "execution_count": 11
        }
      ]
    },
    {
      "cell_type": "code",
      "metadata": {
        "id": "kIQEieHR-e2j",
        "colab_type": "code",
        "colab": {
          "base_uri": "https://localhost:8080/",
          "height": 51
        },
        "outputId": "1a82fc37-317f-40f3-92a5-8b7bda3b7b03"
      },
      "source": [
        "torch.zeros(2,2)"
      ],
      "execution_count": 13,
      "outputs": [
        {
          "output_type": "execute_result",
          "data": {
            "text/plain": [
              "tensor([[0., 0.],\n",
              "        [0., 0.]])"
            ]
          },
          "metadata": {
            "tags": []
          },
          "execution_count": 13
        }
      ]
    },
    {
      "cell_type": "markdown",
      "metadata": {
        "id": "myMMT5cj_Axm",
        "colab_type": "text"
      },
      "source": [
        "## Tensor operations"
      ]
    },
    {
      "cell_type": "code",
      "metadata": {
        "id": "lAEwmrSc_Bu9",
        "colab_type": "code",
        "colab": {
          "base_uri": "https://localhost:8080/",
          "height": 85
        },
        "outputId": "3a6862b8-8402-4bdf-c792-1f5c75e33cdb"
      },
      "source": [
        "random_tensor = torch.rand(2,2)\n",
        "print(random_tensor)\n",
        "print(random_tensor.max())\n",
        "print(random_tensor.argmax())"
      ],
      "execution_count": 26,
      "outputs": [
        {
          "output_type": "stream",
          "text": [
            "tensor([[0.1580, 0.7473],\n",
            "        [0.3705, 0.3033]])\n",
            "tensor(0.7473)\n",
            "tensor(1)\n"
          ],
          "name": "stdout"
        }
      ]
    },
    {
      "cell_type": "code",
      "metadata": {
        "id": "bJ3f3oZO_G2g",
        "colab_type": "code",
        "colab": {
          "base_uri": "https://localhost:8080/",
          "height": 34
        },
        "outputId": "ab84f31d-d45c-438c-bb76-cab8d374f416"
      },
      "source": [
        "# converting type of tensor to float\n",
        "float_tensor = torch.tensor([[0,0,1],[1,1,1],[0,0,0]]).to(dtype=torch.float32)\n",
        "float_tensor.type()"
      ],
      "execution_count": 28,
      "outputs": [
        {
          "output_type": "execute_result",
          "data": {
            "text/plain": [
              "'torch.FloatTensor'"
            ]
          },
          "metadata": {
            "tags": []
          },
          "execution_count": 28
        }
      ]
    },
    {
      "cell_type": "code",
      "metadata": {
        "id": "5MEMyWmU_Fgk",
        "colab_type": "code",
        "colab": {
          "base_uri": "https://localhost:8080/",
          "height": 119
        },
        "outputId": "f7062f12-1766-4a8f-a240-c6e3378130e2"
      },
      "source": [
        "\"\"\"\n",
        "If you want to save it some memory, you can use in-place function that has the\n",
        "same name but with an underscore (_)\n",
        "\"\"\"\n",
        "random_tensor = torch.rand(2,2)\n",
        "print(random_tensor)\n",
        "print(random_tensor.log2_()) # instead of random_tensor.log2\n",
        "print(random_tensor)"
      ],
      "execution_count": 35,
      "outputs": [
        {
          "output_type": "stream",
          "text": [
            "tensor([[0.3539, 0.3154],\n",
            "        [0.1040, 0.5104]])\n",
            "tensor([[-1.4985, -1.6645],\n",
            "        [-3.2653, -0.9703]])\n",
            "tensor([[-1.4985, -1.6645],\n",
            "        [-3.2653, -0.9703]])\n"
          ],
          "name": "stdout"
        }
      ]
    },
    {
      "cell_type": "code",
      "metadata": {
        "id": "-L452K35ASKe",
        "colab_type": "code",
        "colab": {
          "base_uri": "https://localhost:8080/",
          "height": 34
        },
        "outputId": "c854fa16-ce69-4db3-f0c0-97c20aaacad8"
      },
      "source": [
        "\"\"\"\n",
        "We can reshape a tensor. This often happens because your neural network layer may\n",
        "require a slightly different input shape than what you currently have to feed into it.\n",
        "\n",
        "USe view() or reshape()\n",
        "\"\"\"\n",
        "\n",
        "flat_tensor = torch.rand(784)\n",
        "viewed_tensor = flat_tensor.view(1,28,28) # or reshape(1,28,28)\n",
        "print(viewed_tensor.shape)"
      ],
      "execution_count": 39,
      "outputs": [
        {
          "output_type": "stream",
          "text": [
            "torch.Size([1, 28, 28])\n"
          ],
          "name": "stdout"
        }
      ]
    },
    {
      "cell_type": "code",
      "metadata": {
        "id": "OqAKCC2BBN0P",
        "colab_type": "code",
        "colab": {
          "base_uri": "https://localhost:8080/",
          "height": 34
        },
        "outputId": "da17fde6-73e8-434e-81f1-d1ee20dc538b"
      },
      "source": [
        "\"\"\"\n",
        "You can also easily rearrange the dimensions of a tensor using permute()\n",
        "\"\"\"\n",
        "\n",
        "hwc_tensor = torch.rand(640,480,3)\n",
        "chw_tensor = hwc_tensor.permute(2,0,1)\n",
        "chw_tensor.shape"
      ],
      "execution_count": 41,
      "outputs": [
        {
          "output_type": "execute_result",
          "data": {
            "text/plain": [
              "torch.Size([3, 640, 480])"
            ]
          },
          "metadata": {
            "tags": []
          },
          "execution_count": 41
        }
      ]
    }
  ]
}