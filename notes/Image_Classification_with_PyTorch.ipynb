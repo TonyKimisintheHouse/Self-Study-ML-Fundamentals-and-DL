{
  "nbformat": 4,
  "nbformat_minor": 0,
  "metadata": {
    "colab": {
      "name": "Image Classification with PyTorch.ipynb",
      "provenance": [],
      "authorship_tag": "ABX9TyOIk278n9Gp8yVRbMEb7vtW",
      "include_colab_link": true
    },
    "kernelspec": {
      "name": "python3",
      "display_name": "Python 3"
    }
  },
  "cells": [
    {
      "cell_type": "markdown",
      "metadata": {
        "id": "view-in-github",
        "colab_type": "text"
      },
      "source": [
        "<a href=\"https://colab.research.google.com/github/TonyKimisintheHouse/Self-Study-ML-Fundamentals-and-DL/blob/master/notes/Image_Classification_with_PyTorch.ipynb\" target=\"_parent\"><img src=\"https://colab.research.google.com/assets/colab-badge.svg\" alt=\"Open In Colab\"/></a>"
      ]
    },
    {
      "cell_type": "markdown",
      "metadata": {
        "id": "1iYRDFrlC2K6",
        "colab_type": "text"
      },
      "source": [
        "# Image Classification with PyTorch"
      ]
    },
    {
      "cell_type": "code",
      "metadata": {
        "id": "2LD2m0k8C3-j",
        "colab_type": "code",
        "colab": {}
      },
      "source": [
        "import torch\n",
        "import torch.nn as nn\n",
        "import torchvision.datasets as datasets\n",
        "import torchvision.transforms as transforms\n",
        "from torch.autograd import Variable\n",
        "from torch.utils import data\n"
      ],
      "execution_count": 0,
      "outputs": []
    },
    {
      "cell_type": "markdown",
      "metadata": {
        "id": "ahlKSLpwEnZx",
        "colab_type": "text"
      },
      "source": [
        "## Hyperparameters"
      ]
    },
    {
      "cell_type": "code",
      "metadata": {
        "id": "-oSAVXPBEct0",
        "colab_type": "code",
        "colab": {}
      },
      "source": [
        "hidden_size = 500\n",
        "num_epochs = 20\n",
        "batch_size = 100\n",
        "learning_rate = 1e-3"
      ],
      "execution_count": 0,
      "outputs": []
    },
    {
      "cell_type": "markdown",
      "metadata": {
        "id": "onIaZVI3Dj1O",
        "colab_type": "text"
      },
      "source": [
        "### Build a training dataset"
      ]
    },
    {
      "cell_type": "code",
      "metadata": {
        "id": "zFOFpFk7DNwV",
        "colab_type": "code",
        "colab": {}
      },
      "source": [
        "train_data = datasets.MNIST(root = './data', train = True, transform = transforms.ToTensor(), download= True)\n",
        "test_data = datasets.MNIST(root = './data', train = False, transform = transforms.ToTensor())"
      ],
      "execution_count": 0,
      "outputs": []
    },
    {
      "cell_type": "code",
      "metadata": {
        "id": "2CRM1HDqD9Rf",
        "colab_type": "code",
        "colab": {}
      },
      "source": [
        "input_size = 784 # image size = (28, 28) ---> 28 * 28 = 784\n",
        "num_classes = 10"
      ],
      "execution_count": 0,
      "outputs": []
    },
    {
      "cell_type": "code",
      "metadata": {
        "id": "8fDe6EWtE5zS",
        "colab_type": "code",
        "colab": {}
      },
      "source": [
        "train_data_loader = data.DataLoader(train_data, batch_size = batch_size)\n",
        "test_data_loader = data.DataLoader(test_data, batch_size = batch_size)"
      ],
      "execution_count": 0,
      "outputs": []
    },
    {
      "cell_type": "markdown",
      "metadata": {
        "id": "JN_CKvTkE1zi",
        "colab_type": "text"
      },
      "source": [
        "## Neural Network"
      ]
    },
    {
      "cell_type": "code",
      "metadata": {
        "id": "kIvOTY3OEpjw",
        "colab_type": "code",
        "colab": {}
      },
      "source": [
        "class SimpleNeuralNetwork(nn.Module):\n",
        "\n",
        "  def __init__(self, input_size, hidden_size, num_classes):\n",
        "    super(SimpleNeuralNetwork, self).__init__()\n",
        "    self.fc1 = nn.Linear(input_size, 500)\n",
        "    self.fc2 = nn.Linear(500, 50)\n",
        "    self.fc3 = nn.Linear(50, num_classes)\n",
        "\n",
        "  def forward(self, x):\n",
        "    x = x.view(-1, 28 * 28)\n",
        "    x = torch.nn.functional.relu(self.fc1(x))\n",
        "    x = torch.nn.functional.relu(self.fc2(x))\n",
        "    x = self.fc3(x)\n",
        "    return x"
      ],
      "execution_count": 0,
      "outputs": []
    },
    {
      "cell_type": "code",
      "metadata": {
        "id": "-45XXCQzGKpB",
        "colab_type": "code",
        "colab": {}
      },
      "source": [
        "model = SimpleNeuralNetwork(input_size, hidden_size, num_classes)"
      ],
      "execution_count": 0,
      "outputs": []
    },
    {
      "cell_type": "markdown",
      "metadata": {
        "id": "5dRHQgZ6HzXt",
        "colab_type": "text"
      },
      "source": [
        "## Loss function"
      ]
    },
    {
      "cell_type": "code",
      "metadata": {
        "id": "S9V6RI-aJZ2h",
        "colab_type": "code",
        "colab": {}
      },
      "source": [
        "loss_function = nn.CrossEntropyLoss()"
      ],
      "execution_count": 0,
      "outputs": []
    },
    {
      "cell_type": "markdown",
      "metadata": {
        "id": "R5MGcjaEH3y8",
        "colab_type": "text"
      },
      "source": [
        "## Optimizer"
      ]
    },
    {
      "cell_type": "code",
      "metadata": {
        "id": "XOk4-5k7JtPJ",
        "colab_type": "code",
        "colab": {}
      },
      "source": [
        "optimizer = torch.optim.Adam(net.parameters(), lr = learning_rate)"
      ],
      "execution_count": 0,
      "outputs": []
    },
    {
      "cell_type": "markdown",
      "metadata": {
        "id": "gI9ClTdlHELf",
        "colab_type": "text"
      },
      "source": [
        "## Train the model"
      ]
    },
    {
      "cell_type": "code",
      "metadata": {
        "id": "gX8LzWlRG5T3",
        "colab_type": "code",
        "colab": {
          "base_uri": "https://localhost:8080/",
          "height": 187
        },
        "outputId": "96b3f1c8-a95b-4d0c-bc1d-69a8cc88a21c"
      },
      "source": [
        "for epoch in range(num_epochs):\n",
        "  training_loss = 0.0\n",
        "  for batch in train_data_loader:\n",
        "    optimizer.zero_grad()\n",
        "    input, target = batch\n",
        "    output = model(input)\n",
        "    loss = loss_function(output, target)\n",
        "    loss.backward()\n",
        "    optimizer.step()\n",
        "    training_loss += loss.data.item()\n",
        "\n",
        "  print('Epoch: {}, Training Loss: {:.2f}'.format(epoch, training_loss))\n"
      ],
      "execution_count": 0,
      "outputs": [
        {
          "output_type": "stream",
          "text": [
            "Epoch: 0, Training Loss: 1382.84\n",
            "Epoch: 1, Training Loss: 1382.84\n",
            "Epoch: 2, Training Loss: 1382.84\n",
            "Epoch: 3, Training Loss: 1382.84\n",
            "Epoch: 4, Training Loss: 1382.84\n",
            "Epoch: 5, Training Loss: 1382.84\n",
            "Epoch: 6, Training Loss: 1382.84\n",
            "Epoch: 7, Training Loss: 1382.84\n",
            "Epoch: 8, Training Loss: 1382.84\n",
            "Epoch: 9, Training Loss: 1382.84\n"
          ],
          "name": "stdout"
        }
      ]
    },
    {
      "cell_type": "code",
      "metadata": {
        "id": "psRmNl5JT7N0",
        "colab_type": "code",
        "colab": {}
      },
      "source": [
        ""
      ],
      "execution_count": 0,
      "outputs": []
    }
  ]
}