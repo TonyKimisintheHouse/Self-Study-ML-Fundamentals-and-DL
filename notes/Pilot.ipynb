{
  "nbformat": 4,
  "nbformat_minor": 0,
  "metadata": {
    "colab": {
      "name": "Pilot.ipynb",
      "provenance": [],
      "authorship_tag": "ABX9TyM3G0efEjkmmdtzsB0/Fkxo",
      "include_colab_link": true
    },
    "kernelspec": {
      "name": "python3",
      "display_name": "Python 3"
    }
  },
  "cells": [
    {
      "cell_type": "markdown",
      "metadata": {
        "id": "view-in-github",
        "colab_type": "text"
      },
      "source": [
        "<a href=\"https://colab.research.google.com/github/TonyKimisintheHouse/Self-Study-ML-Fundamentals-and-DL/blob/master/notes/Pilot.ipynb\" target=\"_parent\"><img src=\"https://colab.research.google.com/assets/colab-badge.svg\" alt=\"Open In Colab\"/></a>"
      ]
    },
    {
      "cell_type": "markdown",
      "metadata": {
        "id": "srIKbN0LQYCl",
        "colab_type": "text"
      },
      "source": [
        "# Pilot\n",
        "\n",
        "All credits for explanation are given to Seth Weidman. Thank you for such a great book."
      ]
    },
    {
      "cell_type": "markdown",
      "metadata": {
        "id": "XWk7TUjaUtG_",
        "colab_type": "text"
      },
      "source": [
        "## Derivative"
      ]
    },
    {
      "cell_type": "markdown",
      "metadata": {
        "id": "Wf4j-GZYUKmk",
        "colab_type": "text"
      },
      "source": [
        "Derivative of a function at a point is the \"rate of change\" of the output of the function with respect to its input at that point. "
      ]
    },
    {
      "cell_type": "markdown",
      "metadata": {
        "id": "V4oqO5bgUC3S",
        "colab_type": "text"
      },
      "source": [
        "**Math**"
      ]
    },
    {
      "cell_type": "markdown",
      "metadata": {
        "id": "iFw1z90xS7jA",
        "colab_type": "text"
      },
      "source": [
        "$\\frac{df}{du}(a) = \\lim_{\\Delta \\to 0}\\frac{f(a + \\Delta) - f(a - \\delta)}{2 \\times \\Delta}$"
      ]
    },
    {
      "cell_type": "markdown",
      "metadata": {
        "id": "Hugo1dX6ScJO",
        "colab_type": "text"
      },
      "source": [
        "**Code** "
      ]
    },
    {
      "cell_type": "code",
      "metadata": {
        "id": "uXjLU2BfRre2",
        "colab_type": "code",
        "colab": {}
      },
      "source": [
        "from typing import Callable\n",
        "from numpy import ndarray\n",
        "\n",
        "def deriv(func: Callable[[ndarray], ndarray],\n",
        "          input_: ndarray,\n",
        "          delta: float = 0.001) -> ndarray:\n",
        "    \"\"\"\n",
        "    Evaluates the derivative of a function \"func\" at every element in the \"input_\" array\n",
        "    \"\"\"\n",
        "    return (func(input_ + delta) - func(input_ - delta)) / (2 * delta)"
      ],
      "execution_count": 0,
      "outputs": []
    },
    {
      "cell_type": "markdown",
      "metadata": {
        "id": "DPWF7_PYVIbM",
        "colab_type": "text"
      },
      "source": [
        "## Nested Functions"
      ]
    },
    {
      "cell_type": "markdown",
      "metadata": {
        "id": "VM84xbk61Wfp",
        "colab_type": "text"
      },
      "source": [
        "**Math**\n",
        "\n",
        "$f2(f1(x))=y$ \n",
        "\n",
        "First apply $f_1$ to $x$, and then apply $f_2$ to the result of applying $f_1$ to $x$"
      ]
    },
    {
      "cell_type": "markdown",
      "metadata": {
        "id": "YHBy4v_Q1qhD",
        "colab_type": "text"
      },
      "source": [
        "**Code**"
      ]
    },
    {
      "cell_type": "code",
      "metadata": {
        "id": "N2bJDqRe1RyI",
        "colab_type": "code",
        "colab": {}
      },
      "source": [
        "from typing import List\n",
        "\n",
        "# A Function takes in an ndarray as an argumment and produces an ndarray\n",
        "Array_Function = Callable[[ndarray], ndarray]\n",
        "\n",
        "# A Chain is a list of functions\n",
        "Chain = List[Array_Function]"
      ],
      "execution_count": 0,
      "outputs": []
    },
    {
      "cell_type": "code",
      "metadata": {
        "id": "lkBwyEwg1Dht",
        "colab_type": "code",
        "colab": {}
      },
      "source": [
        "def chain_length_2(chain: Chain,\n",
        "                   a: ndarray) -> ndarray:\n",
        "    \"\"\"\n",
        "    Evaluates two functions in a row, in a \"Chain\"\n",
        "    \"\"\"\n",
        "    assert len(chain) == 2, \\\n",
        "    \"Length of input 'chain' should be 2\"\n",
        "\n",
        "    f1 = chain[0]\n",
        "    f2 = chain[1]\n",
        "    return f2(f1(x))"
      ],
      "execution_count": 0,
      "outputs": []
    },
    {
      "cell_type": "markdown",
      "metadata": {
        "id": "_wH8Xr_n5uh6",
        "colab_type": "text"
      },
      "source": [
        "## Chain rule\n",
        "\n",
        "Since Deep Learning models are mathematically composite functions, reasoning about their derivatives is essential to train them. The chain rule helps us do just that."
      ]
    },
    {
      "cell_type": "markdown",
      "metadata": {
        "id": "4_yX1jvr6BzN",
        "colab_type": "text"
      },
      "source": [
        "**Math**\n",
        "\n",
        "$\\frac{df_2}{du}(x)=\\frac{df_2}{du}(f_1(x)) \\times \\frac{df_1}{du}(x)$\n",
        "\n",
        "When describing a derivative of a function $f$ with one input and output, we can denote the *function* as $\\frac{df}{du}$. u is just a dummy variable, similar to $f(x) = x^2$ and $f(y) = y^2$"
      ]
    },
    {
      "cell_type": "code",
      "metadata": {
        "id": "dn8UBAEp6BM9",
        "colab_type": "code",
        "colab": {}
      },
      "source": [
        "def sigmoid(x: ndarray) -> ndarray:\n",
        "  \"\"\"\n",
        "  Apply the sigmoid function to each element in the input ndarray\n",
        "  \"\"\"\n",
        "  return 1 / (1 + np.exp(-x))"
      ],
      "execution_count": 0,
      "outputs": []
    },
    {
      "cell_type": "code",
      "metadata": {
        "id": "xI5nXxIs2TRX",
        "colab_type": "code",
        "colab": {}
      },
      "source": [
        "def square(x: ndarray) -> ndarray:\n",
        "  \"\"\"\n",
        "  Apply the square function to each element in the input ndarray\n",
        "  \"\"\"\n",
        "  return np.power(x, 2)  "
      ],
      "execution_count": 0,
      "outputs": []
    },
    {
      "cell_type": "code",
      "metadata": {
        "id": "u0UGIHiE71DO",
        "colab_type": "code",
        "colab": {}
      },
      "source": [
        "def leaky_relu(x: ndarray) -> ndarray:\n",
        "  \"\"\"\n",
        "  Apply \"Leaky ReLU\" function to each element in ndarray.\n",
        "  \"\"\"\n",
        "  return np.maximum(0.2 * x, x)"
      ],
      "execution_count": 0,
      "outputs": []
    },
    {
      "cell_type": "markdown",
      "metadata": {
        "id": "5MTOy56d8qyv",
        "colab_type": "text"
      },
      "source": [
        "**Code**"
      ]
    },
    {
      "cell_type": "code",
      "metadata": {
        "id": "_ZoAARm08ALn",
        "colab_type": "code",
        "colab": {}
      },
      "source": [
        "def chain_deriv_2(chain: Chain,\n",
        "                  input_range: ndarray) -> ndarray:\n",
        "    \"\"\"\n",
        "    Computes the derivative of two nested function using the chain rule\n",
        "    (f2(f1(x)))' = f2'(f1(x)) * f1'(x)\n",
        "    \"\"\"\n",
        "\n",
        "    assert len(chain) == 2, \\\n",
        "    \"This function requires 'Chain' objects of length 2\"\n",
        "\n",
        "    assert input_range.ndim == 1, \\\n",
        "    \"Function requires a 1 dimensional ndarray as input_Range\"\n",
        "\n",
        "    f1 = chain[0]\n",
        "    f2 = chain[1]\n",
        "\n",
        "    # df1/dx\n",
        "    f1_of_x = f1(input_range)\n",
        "\n",
        "    # df1/du\n",
        "    df1dx = deriv(f1, input_range)\n",
        "\n",
        "    # df2/du(f1(x))\n",
        "    df2du = deriv(f2, f1(input_range))\n",
        "\n",
        "    # Multiplying these quantities together at each point\n",
        "    return df1dx * df2du    "
      ],
      "execution_count": 0,
      "outputs": []
    }
  ]
}