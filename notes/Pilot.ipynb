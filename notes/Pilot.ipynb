{
  "nbformat": 4,
  "nbformat_minor": 0,
  "metadata": {
    "colab": {
      "name": "Pilot.ipynb",
      "provenance": [],
      "authorship_tag": "ABX9TyNTGGNnLA90QphFAEbLPeDb",
      "include_colab_link": true
    },
    "kernelspec": {
      "name": "python3",
      "display_name": "Python 3"
    }
  },
  "cells": [
    {
      "cell_type": "markdown",
      "metadata": {
        "id": "view-in-github",
        "colab_type": "text"
      },
      "source": [
        "<a href=\"https://colab.research.google.com/github/TonyKimisintheHouse/Self-Study-ML-Fundamentals-and-DL/blob/master/notes/Pilot.ipynb\" target=\"_parent\"><img src=\"https://colab.research.google.com/assets/colab-badge.svg\" alt=\"Open In Colab\"/></a>"
      ]
    },
    {
      "cell_type": "markdown",
      "metadata": {
        "id": "srIKbN0LQYCl",
        "colab_type": "text"
      },
      "source": [
        "# Pilot"
      ]
    },
    {
      "cell_type": "markdown",
      "metadata": {
        "id": "XWk7TUjaUtG_",
        "colab_type": "text"
      },
      "source": [
        "## Derivative"
      ]
    },
    {
      "cell_type": "markdown",
      "metadata": {
        "id": "Wf4j-GZYUKmk",
        "colab_type": "text"
      },
      "source": [
        "Derivative of a function at a point is the \"rate of change\" of the output of the function with respect to its input at that point. "
      ]
    },
    {
      "cell_type": "markdown",
      "metadata": {
        "id": "V4oqO5bgUC3S",
        "colab_type": "text"
      },
      "source": [
        "**Math**"
      ]
    },
    {
      "cell_type": "markdown",
      "metadata": {
        "id": "iFw1z90xS7jA",
        "colab_type": "text"
      },
      "source": [
        "$\\frac{df}{du}(a) = \\lim_{\\Delta \\to 0}\\frac{f(a + \\Delta) - f(a - \\delta)}{2 \\times \\Delta}$"
      ]
    },
    {
      "cell_type": "markdown",
      "metadata": {
        "id": "Hugo1dX6ScJO",
        "colab_type": "text"
      },
      "source": [
        "**Code** "
      ]
    },
    {
      "cell_type": "code",
      "metadata": {
        "id": "uXjLU2BfRre2",
        "colab_type": "code",
        "colab": {}
      },
      "source": [
        "from typing import Callable\n",
        "from numpy import ndarray\n",
        "\n",
        "def deriv(func: Callable[[ndarray], ndarray],\n",
        "          input_: ndarray,\n",
        "          delta: float = 0.001) -> ndarray:\n",
        "    \"\"\"\n",
        "    Evaluates the derivative of a function \"func\" at every element in the \"input_\" array\n",
        "    \"\"\"\n",
        "    return (func(input_ + delta) - func(input_ - delta)) / (2 * delta)\n"
      ],
      "execution_count": 0,
      "outputs": []
    },
    {
      "cell_type": "markdown",
      "metadata": {
        "id": "DPWF7_PYVIbM",
        "colab_type": "text"
      },
      "source": [
        ""
      ]
    }
  ]
}