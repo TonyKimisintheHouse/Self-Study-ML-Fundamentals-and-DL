{
  "nbformat": 4,
  "nbformat_minor": 0,
  "metadata": {
    "colab": {
      "name": "Practice0.ipynb",
      "provenance": [],
      "collapsed_sections": [
        "U_WxdbqcwT97"
      ],
      "authorship_tag": "ABX9TyMOiAwzzhgxwQo7MSu4V+Ts",
      "include_colab_link": true
    },
    "kernelspec": {
      "name": "python3",
      "display_name": "Python 3"
    }
  },
  "cells": [
    {
      "cell_type": "markdown",
      "metadata": {
        "id": "view-in-github",
        "colab_type": "text"
      },
      "source": [
        "<a href=\"https://colab.research.google.com/github/TonyKimisintheHouse/Self-Study-ML-Fundamentals-and-DL/blob/master/practice/Practice0.ipynb\" target=\"_parent\"><img src=\"https://colab.research.google.com/assets/colab-badge.svg\" alt=\"Open In Colab\"/></a>"
      ]
    },
    {
      "cell_type": "markdown",
      "metadata": {
        "id": "Xp964kOBnrTr",
        "colab_type": "text"
      },
      "source": [
        "# Softmax Regression and Stochastiic Gradient Descent\n",
        "\n",
        "This work is based on [Hommework 0, Question 8](https://www.cc.gatech.edu/classes/AY2018/cs7643_fall/hw0-q8/)\n",
        " of CS 7643 Deep Learning, Fall 2017. "
      ]
    },
    {
      "cell_type": "code",
      "metadata": {
        "id": "dD9dX2M3m_Ll",
        "colab_type": "code",
        "colab": {}
      },
      "source": [
        "import numpy as np\n",
        "import matplotlib.pyplot as plt"
      ],
      "execution_count": 0,
      "outputs": []
    },
    {
      "cell_type": "markdown",
      "metadata": {
        "id": "86er_GFxoceE",
        "colab_type": "text"
      },
      "source": [
        "## Getting comfortable with Python\n",
        "\n",
        "This work is based on [CS 231n Python Tutorial](http://cs231n.github.io/python-numpy-tutorial/)"
      ]
    },
    {
      "cell_type": "markdown",
      "metadata": {
        "id": "NZmW44WepKHv",
        "colab_type": "text"
      },
      "source": [
        "#### Numbers\n",
        "Like most languages, Python has a number of basic types including integers, floats, boleans, and strings. "
      ]
    },
    {
      "cell_type": "code",
      "metadata": {
        "id": "AdVIBsgkpJ4r",
        "colab_type": "code",
        "colab": {
          "base_uri": "https://localhost:8080/",
          "height": 187
        },
        "outputId": "829b37a4-e9db-4f53-fc04-d73838417399"
      },
      "source": [
        "x = 3\n",
        "print(type(x))\n",
        "print(x)\n",
        "print(x + 1)\n",
        "print(x - 1)\n",
        "print(x * 2)\n",
        "print(x ** 2)\n",
        "x += 1 # Note: Python does not have unary increment x++ or decrement x-- operators\n",
        "print(x)\n",
        "x *= 2\n",
        "print(x)\n",
        "y = 2.5\n",
        "print(type(y))\n",
        "print(y, y + 1, y * 2, y ** 2)"
      ],
      "execution_count": 7,
      "outputs": [
        {
          "output_type": "stream",
          "text": [
            "<class 'int'>\n",
            "3\n",
            "4\n",
            "2\n",
            "6\n",
            "9\n",
            "4\n",
            "8\n",
            "<class 'float'>\n",
            "2.5 3.5 5.0 6.25\n"
          ],
          "name": "stdout"
        }
      ]
    },
    {
      "cell_type": "markdown",
      "metadata": {
        "id": "Dlymn4nSp3hR",
        "colab_type": "text"
      },
      "source": [
        "#### Booleans\n",
        "Python also implements all of the usual operators for Boolean logic, but uses English words rather than symbols (`&&`, `||`, etc)"
      ]
    },
    {
      "cell_type": "code",
      "metadata": {
        "id": "t0cSa8vsocLU",
        "colab_type": "code",
        "colab": {
          "base_uri": "https://localhost:8080/",
          "height": 102
        },
        "outputId": "ae9fa8eb-6737-4170-bc63-cbca663d8963"
      },
      "source": [
        "t = True\n",
        "f = False\n",
        "print(type(t))\n",
        "print(t and f)\n",
        "print(t or f)\n",
        "print(not t)\n",
        "print(t != f)"
      ],
      "execution_count": 8,
      "outputs": [
        {
          "output_type": "stream",
          "text": [
            "<class 'bool'>\n",
            "False\n",
            "True\n",
            "False\n",
            "True\n"
          ],
          "name": "stdout"
        }
      ]
    },
    {
      "cell_type": "markdown",
      "metadata": {
        "id": "Mt9cSJLRqPML",
        "colab_type": "text"
      },
      "source": [
        "#### Strings\n",
        "Python also implements strings"
      ]
    },
    {
      "cell_type": "code",
      "metadata": {
        "id": "oGZeUVSCobvn",
        "colab_type": "code",
        "colab": {
          "base_uri": "https://localhost:8080/",
          "height": 85
        },
        "outputId": "435c33d6-43b0-42ae-aee4-7ba2ea6f3b9b"
      },
      "source": [
        "hello = 'hello'\n",
        "world = \"world\"\n",
        "print(hello)\n",
        "print(len(hello))\n",
        "hw = hello + ' ' + world #string concatenation\n",
        "print(hw)\n",
        "stringFormatting = '%s %s %d' % (hello, world, 12)\n",
        "print(stringFormatting)"
      ],
      "execution_count": 10,
      "outputs": [
        {
          "output_type": "stream",
          "text": [
            "hello\n",
            "5\n",
            "hello world\n",
            "hello world 12\n"
          ],
          "name": "stdout"
        }
      ]
    },
    {
      "cell_type": "code",
      "metadata": {
        "id": "f4BTaiWsqiLv",
        "colab_type": "code",
        "colab": {
          "base_uri": "https://localhost:8080/",
          "height": 119
        },
        "outputId": "7d8d6e6c-07e4-4ca3-a1f4-e3b36bc2c580"
      },
      "source": [
        "s = \"hello\"\n",
        "print(s.capitalize())\n",
        "print(s.upper())\n",
        "print(s.rjust(7))\n",
        "print(s.center(7))\n",
        "print(s.replace('l', '(ell)'))\n",
        "print('  world'.strip())"
      ],
      "execution_count": 17,
      "outputs": [
        {
          "output_type": "stream",
          "text": [
            "Hello\n",
            "HELLO\n",
            "  hello\n",
            " hello \n",
            "he(ell)(ell)o\n",
            "world\n"
          ],
          "name": "stdout"
        }
      ]
    },
    {
      "cell_type": "markdown",
      "metadata": {
        "id": "U_WxdbqcwT97",
        "colab_type": "text"
      },
      "source": [
        "### Containers\n",
        "\n",
        "Like other languages, Python also comes with built-in container types: list, dictionaries, sets, and tuples\n"
      ]
    },
    {
      "cell_type": "markdown",
      "metadata": {
        "id": "mdRMRACJw3Mo",
        "colab_type": "text"
      },
      "source": [
        "#### List\n",
        "\n",
        "A list is the Python equivalent of an array, but is resizeable and can contain elements of different types:"
      ]
    },
    {
      "cell_type": "code",
      "metadata": {
        "id": "M-8-KJf8v7cF",
        "colab_type": "code",
        "colab": {
          "base_uri": "https://localhost:8080/",
          "height": 102
        },
        "outputId": "2eaeea6b-7119-444c-bedd-b83e72e8ab94"
      },
      "source": [
        "xs = [3, 1, 2]\n",
        "print(xs, xs[2])\n",
        "print(xs[-1])\n",
        "xs[2] = 'foo'\n",
        "print(xs)\n",
        "xs.append('bar')\n",
        "print(xs)\n",
        "x = xs.pop()\n",
        "print(x, xs)"
      ],
      "execution_count": 18,
      "outputs": [
        {
          "output_type": "stream",
          "text": [
            "[3, 1, 2] 2\n",
            "2\n",
            "[3, 1, 'foo']\n",
            "[3, 1, 'foo', 'bar']\n",
            "bar [3, 1, 'foo']\n"
          ],
          "name": "stdout"
        }
      ]
    },
    {
      "cell_type": "markdown",
      "metadata": {
        "id": "Ban5mh2ZxMz1",
        "colab_type": "text"
      },
      "source": [
        "which comes with helpful methods"
      ]
    },
    {
      "cell_type": "code",
      "metadata": {
        "id": "tb0cuF4-xHPp",
        "colab_type": "code",
        "colab": {
          "base_uri": "https://localhost:8080/",
          "height": 136
        },
        "outputId": "b00e29ae-2e1e-470e-d07c-5daaa121365c"
      },
      "source": [
        "# Slicing\n",
        "\n",
        "nums = list(range(5))\n",
        "print(nums) # Prints the entire list\n",
        "print(nums[2:4]) # Prints a slice from index 2 to 4\n",
        "print(nums[2:]) # Prints a slice from index 2 to the end\n",
        "print(nums[:2]) # Prints a slice from the start to index 2 (exclusive)\n",
        "print(nums[:]) # Prints a slice of the whole list\n",
        "print(nums[:-1]) # Prints a slice from the start to the last (exclusive)\n",
        "nums[2:4] = [8, 9] # Replaces slice from index 2 to 3 with [8, 9]\n",
        "print(nums)"
      ],
      "execution_count": 20,
      "outputs": [
        {
          "output_type": "stream",
          "text": [
            "[0, 1, 2, 3, 4]\n",
            "[2, 3]\n",
            "[2, 3, 4]\n",
            "[0, 1]\n",
            "[0, 1, 2, 3, 4]\n",
            "[0, 1, 2, 3]\n",
            "[0, 1, 8, 9, 4]\n"
          ],
          "name": "stdout"
        }
      ]
    },
    {
      "cell_type": "code",
      "metadata": {
        "id": "Am8864q0xb-v",
        "colab_type": "code",
        "colab": {
          "base_uri": "https://localhost:8080/",
          "height": 68
        },
        "outputId": "2d466503-d6a4-4af7-b71c-1f700a253341"
      },
      "source": [
        "# Loops\n",
        "\n",
        "animals = ['cat', 'dog', 'monkey']\n",
        "for animal in animals:\n",
        "  print(animal)"
      ],
      "execution_count": 25,
      "outputs": [
        {
          "output_type": "stream",
          "text": [
            "cat\n",
            "dog\n",
            "monkey\n"
          ],
          "name": "stdout"
        }
      ]
    },
    {
      "cell_type": "markdown",
      "metadata": {
        "id": "8dVUr8XyyZr8",
        "colab_type": "text"
      },
      "source": [
        "`enumerate` allows accessing the index of each element within the body of a loop"
      ]
    },
    {
      "cell_type": "code",
      "metadata": {
        "id": "MKtdFSo6yCq9",
        "colab_type": "code",
        "colab": {
          "base_uri": "https://localhost:8080/",
          "height": 68
        },
        "outputId": "4efd391d-9e29-4c61-e6f0-50541f297bbc"
      },
      "source": [
        "animals = ['cat', 'dog', 'monkey']\n",
        "for idx, animmal in enumerate(animals):\n",
        "  print('#%d: %s' % (idx + 1, animal))"
      ],
      "execution_count": 29,
      "outputs": [
        {
          "output_type": "stream",
          "text": [
            "#1: monkey\n",
            "#2: monkey\n",
            "#3: monkey\n"
          ],
          "name": "stdout"
        }
      ]
    },
    {
      "cell_type": "code",
      "metadata": {
        "id": "ses1p48TySP0",
        "colab_type": "code",
        "colab": {
          "base_uri": "https://localhost:8080/",
          "height": 68
        },
        "outputId": "aab9e4f8-b209-4cc4-926a-6e72c24b15d2"
      },
      "source": [
        "# List commprehensions\n",
        "# Example - Compute square number\n",
        "nums = [ 0, 1, 2, 3, 4]\n",
        "squares = []\n",
        "for x in nums:\n",
        "  squares.append(x ** 2)\n",
        "print(squares)\n",
        "\n",
        "## We can simplify the code to\n",
        "squares2 = [x ** 2 for x in nums]\n",
        "print(squares2)\n",
        "\n",
        "\n",
        "# we can also add conditions to list comprehension\n",
        "even_squares = [x ** 2 for x in nums if x % 2 == 0]\n",
        "print(even_squares)"
      ],
      "execution_count": 33,
      "outputs": [
        {
          "output_type": "stream",
          "text": [
            "[0, 1, 4, 9, 16]\n",
            "[0, 1, 4, 9, 16]\n",
            "[0, 4, 16]\n"
          ],
          "name": "stdout"
        }
      ]
    },
    {
      "cell_type": "markdown",
      "metadata": {
        "id": "OQMlwaHszhOp",
        "colab_type": "text"
      },
      "source": [
        "#### Dictionaries "
      ]
    },
    {
      "cell_type": "code",
      "metadata": {
        "id": "bsLCDKoIy456",
        "colab_type": "code",
        "colab": {
          "base_uri": "https://localhost:8080/",
          "height": 119
        },
        "outputId": "3d58912b-0f5a-4d28-a750-17e8bb81631b"
      },
      "source": [
        "d = {'cat': 'cute', 'dog': 'furry'}\n",
        "print(d['cat'])\n",
        "print('cat' in d)\n",
        "d['fish'] = 'wet'\n",
        "print(d['fish'])\n",
        "print(d.get('monkey', 'N/A'))\n",
        "print(d.get('fish', 'N/A'))\n",
        "del d['fish'] # removes an element from the list\n",
        "print(d.get('fish', 'N/A'))"
      ],
      "execution_count": 36,
      "outputs": [
        {
          "output_type": "stream",
          "text": [
            "cute\n",
            "True\n",
            "wet\n",
            "N/A\n",
            "wet\n",
            "N/A\n"
          ],
          "name": "stdout"
        }
      ]
    },
    {
      "cell_type": "code",
      "metadata": {
        "id": "x7DUDtd7zylb",
        "colab_type": "code",
        "colab": {
          "base_uri": "https://localhost:8080/",
          "height": 170
        },
        "outputId": "baa20b87-53b2-493b-bf7a-6685a673638c"
      },
      "source": [
        "# Like lists, you can loop through a dictionary\n",
        "## by iterating over the keys\n",
        "d = {'person': 2, 'cat': 4, 'spider': 8}\n",
        "\n",
        "print('Iterating over the keys')\n",
        "for animal in d:\n",
        "  legs = d[animal]\n",
        "  print('A %s has %d legs' % (animal, legs))\n",
        "print('')\n",
        "## or by iterating both keys and their corresponding values\n",
        "print(\"Iterating both keys and their corresponding values\")\n",
        "for animal, legs in d.items():\n",
        "  print('A %s has %d legs' % (animal, legs))"
      ],
      "execution_count": 41,
      "outputs": [
        {
          "output_type": "stream",
          "text": [
            "Iterating over the keys\n",
            "A person has 2 legs\n",
            "A cat has 4 legs\n",
            "A spider has 8 legs\n",
            "\n",
            "Iterating both keys and their corresponding values\n",
            "A person has 2 legs\n",
            "A cat has 4 legs\n",
            "A spider has 8 legs\n"
          ],
          "name": "stdout"
        }
      ]
    },
    {
      "cell_type": "markdown",
      "metadata": {
        "id": "CG5rR3DR1nsi",
        "colab_type": "text"
      },
      "source": [
        "#### Tuples\n",
        "\n",
        "A tuple is an immutable ordered list of values. Unlike a string, it can be used as a string for dictionaries because it is immutable"
      ]
    },
    {
      "cell_type": "code",
      "metadata": {
        "id": "UnYBZDlC0PR1",
        "colab_type": "code",
        "colab": {
          "base_uri": "https://localhost:8080/",
          "height": 68
        },
        "outputId": "f64403fb-6608-4eb4-e1cd-8c3d507e2e96"
      },
      "source": [
        "d = {(i, i + 1): i for i in range(10)}\n",
        "t = (5, 6)\n",
        "print(type(t))\n",
        "print(d[t])\n",
        "print(d[(1, 2)])"
      ],
      "execution_count": 42,
      "outputs": [
        {
          "output_type": "stream",
          "text": [
            "<class 'tuple'>\n",
            "5\n",
            "1\n"
          ],
          "name": "stdout"
        }
      ]
    },
    {
      "cell_type": "markdown",
      "metadata": {
        "id": "BrHQEqWN2bfy",
        "colab_type": "text"
      },
      "source": [
        "### Functions"
      ]
    },
    {
      "cell_type": "code",
      "metadata": {
        "id": "NZ8WCkAE2dxr",
        "colab_type": "code",
        "colab": {
          "base_uri": "https://localhost:8080/",
          "height": 51
        },
        "outputId": "dca16f7a-b70b-4f69-c8b7-19ca65517587"
      },
      "source": [
        "def fibonacci(x):\n",
        "  if x == 0:\n",
        "    return 0\n",
        "  if x == 1:\n",
        "    return 1\n",
        "  return (fibonacci(x - 1) + fibonacci(x - 2))\n",
        "\n",
        "print(fibonacci(1))\n",
        "print(fibonacci(8))"
      ],
      "execution_count": 48,
      "outputs": [
        {
          "output_type": "stream",
          "text": [
            "1\n",
            "21\n"
          ],
          "name": "stdout"
        }
      ]
    },
    {
      "cell_type": "markdown",
      "metadata": {
        "id": "jkGyyT-e3EtP",
        "colab_type": "text"
      },
      "source": [
        "## Classes"
      ]
    },
    {
      "cell_type": "code",
      "metadata": {
        "id": "rOeiCVQT3EFB",
        "colab_type": "code",
        "colab": {
          "base_uri": "https://localhost:8080/",
          "height": 51
        },
        "outputId": "b4e93dec-ee5a-4338-ed69-fee441e394e7"
      },
      "source": [
        "class musicLover(object):\n",
        "  # Constructor\n",
        "  def __init__(self, name, favorite_musician):\n",
        "    self.name = name\n",
        "    self.favorite_musician = favorite_musician\n",
        "\n",
        "  def greet(self, secretly_in_love=False):\n",
        "    if secretly_in_love:\n",
        "      print (\"Hello! My name is %s\" % self.name)\n",
        "    else:\n",
        "      print(\"My name is %s and I LOVE %s\" % (self.name, self.favorite_musician))\n",
        "\n",
        "Tony = musicLover('Tony', 'Coldplay')\n",
        "Tony.greet()\n",
        "Tony.greet(secretly_in_love=True)"
      ],
      "execution_count": 53,
      "outputs": [
        {
          "output_type": "stream",
          "text": [
            "My name is Tony and I LOVE Coldplay\n",
            "Hello! My name is Tony\n"
          ],
          "name": "stdout"
        }
      ]
    },
    {
      "cell_type": "markdown",
      "metadata": {
        "id": "i_YLHlRyI3nr",
        "colab_type": "text"
      },
      "source": [
        "## Getting comfortable with NumPy\n",
        "\n",
        "NumPy is a core library for high-performance multidimensional array objects, and tools for working with these arrays"
      ]
    },
    {
      "cell_type": "code",
      "metadata": {
        "id": "YgTuqN6kI3Sx",
        "colab_type": "code",
        "colab": {
          "base_uri": "https://localhost:8080/",
          "height": 119
        },
        "outputId": "bbd9a780-fe0e-472a-a4ab-03420091aa87"
      },
      "source": [
        "a = np.array([1, 2, 3]) # Creates a rank 1 array\n",
        "print(type(a))\n",
        "print(a.shape)\n",
        "print(a[0], a[1], a[2]) \n",
        "a[0] = 5\n",
        "print(a)\n",
        "\n",
        "b = np.array([[1, 2, 3], [4, 5, 6]])\n",
        "print(b.shape)\n",
        "print(b[0, 0], b[0, 1], b[1, 0])"
      ],
      "execution_count": 54,
      "outputs": [
        {
          "output_type": "stream",
          "text": [
            "<class 'numpy.ndarray'>\n",
            "(3,)\n",
            "1 2 3\n",
            "[5 2 3]\n",
            "(2, 3)\n",
            "1 2 4\n"
          ],
          "name": "stdout"
        }
      ]
    },
    {
      "cell_type": "markdown",
      "metadata": {
        "id": "VVekhsBdJgQt",
        "colab_type": "text"
      },
      "source": [
        "There are functions for creating arrays"
      ]
    },
    {
      "cell_type": "code",
      "metadata": {
        "id": "CvungztWI3Ka",
        "colab_type": "code",
        "colab": {
          "base_uri": "https://localhost:8080/",
          "height": 221
        },
        "outputId": "099cebaa-814b-4148-e642-a05ea9dc767a"
      },
      "source": [
        "import numpy as np\n",
        "\n",
        "a = np.zeros((2, 2)) # creates an array of all zeros\n",
        "print(a)\n",
        "\n",
        "b = np.ones((1, 2)) # creates an array of all ones\n",
        "print(b)\n",
        "\n",
        "c = np.full((2, 2), 7) # creates a constant array\n",
        "print(c)\n",
        "\n",
        "d = np.eye(5) # creates an identity matrix\n",
        "print(d)\n",
        "\n",
        "e = np.random.random((2, 2))\n",
        "print(e)"
      ],
      "execution_count": 61,
      "outputs": [
        {
          "output_type": "stream",
          "text": [
            "[[0. 0.]\n",
            " [0. 0.]]\n",
            "[[1. 1.]]\n",
            "[[7 7]\n",
            " [7 7]]\n",
            "[[1. 0. 0. 0. 0.]\n",
            " [0. 1. 0. 0. 0.]\n",
            " [0. 0. 1. 0. 0.]\n",
            " [0. 0. 0. 1. 0.]\n",
            " [0. 0. 0. 0. 1.]]\n",
            "[[0.89719322 0.57722102]\n",
            " [0.54455139 0.07794357]]\n"
          ],
          "name": "stdout"
        }
      ]
    },
    {
      "cell_type": "markdown",
      "metadata": {
        "id": "ZcbaVp5ZKRml",
        "colab_type": "text"
      },
      "source": [
        "Here are several ways to index into arrays"
      ]
    },
    {
      "cell_type": "code",
      "metadata": {
        "id": "Z81A4nEq2uJp",
        "colab_type": "code",
        "colab": {
          "base_uri": "https://localhost:8080/",
          "height": 119
        },
        "outputId": "de32886d-6663-49b7-b681-c964a072820f"
      },
      "source": [
        "a = np.array([[1, 2, 3, 4], [5, 6, 7, 8], [9, 10, 11, 12]])\n",
        "\n",
        "b = a[:2, 1: 3] # slicing\n",
        "\n",
        "print(a)\n",
        "print(b)\n",
        "\n",
        "print(b[0, 1])\n"
      ],
      "execution_count": 67,
      "outputs": [
        {
          "output_type": "stream",
          "text": [
            "[[ 1  2  3  4]\n",
            " [ 5  6  7  8]\n",
            " [ 9 10 11 12]]\n",
            "[[2 3]\n",
            " [6 7]]\n",
            "3\n"
          ],
          "name": "stdout"
        }
      ]
    },
    {
      "cell_type": "code",
      "metadata": {
        "id": "9SsYCbk7KhOG",
        "colab_type": "code",
        "colab": {
          "base_uri": "https://localhost:8080/",
          "height": 51
        },
        "outputId": "f539e839-b80e-4c95-cd7a-1e3f9ad3379a"
      },
      "source": [
        "row_r0 = a[1, :] # mixing integer indexing with slices yields an array of lower ranks\n",
        "row_r1 = a[1:2, ] # This yields an array of the same rank as the original array\n",
        "\n",
        "print(row_r0, row_r0.shape)\n",
        "print(row_r1, row_r1.shape)"
      ],
      "execution_count": 70,
      "outputs": [
        {
          "output_type": "stream",
          "text": [
            "[5 6 7 8] (4,)\n",
            "[[5 6 7 8]] (1, 4)\n"
          ],
          "name": "stdout"
        }
      ]
    },
    {
      "cell_type": "markdown",
      "metadata": {
        "id": "szwZXBK2MZck",
        "colab_type": "text"
      },
      "source": [
        "**Integer array indexing**"
      ]
    },
    {
      "cell_type": "code",
      "metadata": {
        "id": "tTgQS0vmMI1_",
        "colab_type": "code",
        "colab": {
          "base_uri": "https://localhost:8080/",
          "height": 85
        },
        "outputId": "769501e2-ef8e-4536-d7f0-7a32f073d988"
      },
      "source": [
        "a = np.array([[1, 2], [3, 4], [5, 6]])\n",
        "print(a[[0, 1, 2], [0, 1, 0]])  # Prints \"[1 4 5]\"\n",
        "\n",
        "# The above example of integer array indexing is equivalent to this:\n",
        "print(np.array([a[0, 0], a[1, 1], a[2, 0]]))  # Prints \"[1 4 5]\"\n",
        "\n",
        "\n",
        "print(a[[0, 0], [1, 1]])  # Prints \"[2 2]\"\n",
        "\n",
        "# Equivalent to the previous integer array indexing example\n",
        "print(np.array([a[0, 1], a[0, 1]]))  # Prints \"[2 2]\""
      ],
      "execution_count": 74,
      "outputs": [
        {
          "output_type": "stream",
          "text": [
            "[1 4 5]\n",
            "[1 4 5]\n",
            "[2 2]\n",
            "[2 2]\n"
          ],
          "name": "stdout"
        }
      ]
    },
    {
      "cell_type": "markdown",
      "metadata": {
        "id": "2zB_wLXzNgLT",
        "colab_type": "text"
      },
      "source": [
        "which allows us to use a trick that makes selecting or mutating one element from each row of a matrix"
      ]
    },
    {
      "cell_type": "code",
      "metadata": {
        "id": "Y8FSfzmBM6Fi",
        "colab_type": "code",
        "colab": {
          "base_uri": "https://localhost:8080/",
          "height": 170
        },
        "outputId": "d9dbcdb8-9fba-4813-ec2e-2a0832128a50"
      },
      "source": [
        "\n",
        "# Create a new array from which we will select elements\n",
        "a = np.array([[1,2,3], [4,5,6], [7,8,9], [10, 11, 12]])\n",
        "\n",
        "print(a)  # prints \"array([[ 1,  2,  3],\n",
        "          #                [ 4,  5,  6],\n",
        "          #                [ 7,  8,  9],\n",
        "          #                [10, 11, 12]])\"\n",
        "\n",
        "# Create an array of indices\n",
        "b = np.array([0, 2, 0, 1])\n",
        "\n",
        "# Select one element from each row of a using the indices in b\n",
        "print(a[np.arange(4), b])  # Prints \"[ 1  6  7 11]\"\n",
        "\n",
        "# Mutate one element from each row of a using the indices in b\n",
        "a[np.arange(4), b] += 10\n",
        "\n",
        "print(a)  # prints \"array([[11,  2,  3],\n",
        "          #                [ 4,  5, 16],\n",
        "          #                [17,  8,  9],\n",
        "          #                [10, 21, 12]])"
      ],
      "execution_count": 76,
      "outputs": [
        {
          "output_type": "stream",
          "text": [
            "[[ 1  2  3]\n",
            " [ 4  5  6]\n",
            " [ 7  8  9]\n",
            " [10 11 12]]\n",
            "[ 1  6  7 11]\n",
            "[[11  2  3]\n",
            " [ 4  5 16]\n",
            " [17  8  9]\n",
            " [10 21 12]]\n"
          ],
          "name": "stdout"
        }
      ]
    },
    {
      "cell_type": "markdown",
      "metadata": {
        "id": "H7IJ3fEON1Qi",
        "colab_type": "text"
      },
      "source": [
        "**Boolean array indexing**"
      ]
    },
    {
      "cell_type": "code",
      "metadata": {
        "id": "JFtXxiQwNaWO",
        "colab_type": "code",
        "colab": {
          "base_uri": "https://localhost:8080/",
          "height": 102
        },
        "outputId": "16881cc4-2e74-4041-a694-21ecb75ce08b"
      },
      "source": [
        "a = np.array([[1, 2], [3, 4], [5, 6]])\n",
        "\n",
        "bool_idx = (a > 2)\n",
        "print(bool_idx)\n",
        "\n",
        "# construct a rank 1 array that consist of the elements of a corresponding to the True values of bool idx\n",
        "print(a[bool_idx])\n",
        "\n",
        "# We can do all of the above in a single concise statement\n",
        "print(a[a > 2])\n"
      ],
      "execution_count": 78,
      "outputs": [
        {
          "output_type": "stream",
          "text": [
            "[[False False]\n",
            " [ True  True]\n",
            " [ True  True]]\n",
            "[3 4 5 6]\n",
            "[3 4 5 6]\n"
          ],
          "name": "stdout"
        }
      ]
    },
    {
      "cell_type": "markdown",
      "metadata": {
        "id": "rfbTHaDyOyJs",
        "colab_type": "text"
      },
      "source": [
        "### Array math"
      ]
    },
    {
      "cell_type": "code",
      "metadata": {
        "id": "MHr67uE3OCvu",
        "colab_type": "code",
        "colab": {
          "base_uri": "https://localhost:8080/",
          "height": 323
        },
        "outputId": "bf21a168-3f91-4a6c-892c-edea8978f59f"
      },
      "source": [
        "x = np.array([[1,2], [3,4]], dtype=np.float64)\n",
        "y = np.array([[5,6], [7,8]], dtype=np.float64)\n",
        "\n",
        "print(x + y)\n",
        "print(np.add(x, y))\n",
        "\n",
        "print(x - y)\n",
        "print(np.subtract(x, y))\n",
        "\n",
        "print(x * y) # Note: This is an elementwise product. NOT MATRIX MULTIPLICATION\n",
        "print(np.multiply(x, y))\n",
        "\n",
        "print(x / y) # Likewise, this is an elementwise division\n",
        "print(np.divide(x, y))\n",
        "\n",
        "print(np.sqrt(x)) # Elementwise squareroot"
      ],
      "execution_count": 88,
      "outputs": [
        {
          "output_type": "stream",
          "text": [
            "[[ 6.  8.]\n",
            " [10. 12.]]\n",
            "[[ 6.  8.]\n",
            " [10. 12.]]\n",
            "[[-4. -4.]\n",
            " [-4. -4.]]\n",
            "[[-4. -4.]\n",
            " [-4. -4.]]\n",
            "[[ 5. 12.]\n",
            " [21. 32.]]\n",
            "[[ 5. 12.]\n",
            " [21. 32.]]\n",
            "[[0.2        0.33333333]\n",
            " [0.42857143 0.5       ]]\n",
            "[[0.2        0.33333333]\n",
            " [0.42857143 0.5       ]]\n",
            "[[1.         1.41421356]\n",
            " [1.73205081 2.        ]]\n"
          ],
          "name": "stdout"
        }
      ]
    },
    {
      "cell_type": "markdown",
      "metadata": {
        "id": "rnMGynyrP9a-",
        "colab_type": "text"
      },
      "source": [
        "In order to do matrix multiplication, you need to use `.dot` or `np.dot(x, y)`"
      ]
    },
    {
      "cell_type": "code",
      "metadata": {
        "id": "l-WTawkAPBeV",
        "colab_type": "code",
        "colab": {
          "base_uri": "https://localhost:8080/",
          "height": 85
        },
        "outputId": "22c8c336-f940-403a-81d3-8e19ad531974"
      },
      "source": [
        "x = np.array([[1,2],[3,4]])\n",
        "y = np.array([[5,6],[7,8]])\n",
        "\n",
        "v = np.array([9,10])\n",
        "w = np.array([11, 12])\n",
        "\n",
        "print(x.dot(v)) # or print(np.dot(x, v))\n",
        "\n",
        "print(v.dot(v))\n",
        "\n",
        "print(np.dot(x, y))"
      ],
      "execution_count": 95,
      "outputs": [
        {
          "output_type": "stream",
          "text": [
            "[29 67]\n",
            "181\n",
            "[[19 22]\n",
            " [43 50]]\n"
          ],
          "name": "stdout"
        }
      ]
    },
    {
      "cell_type": "code",
      "metadata": {
        "id": "vfI68BlVQL7w",
        "colab_type": "code",
        "colab": {
          "base_uri": "https://localhost:8080/",
          "height": 68
        },
        "outputId": "99035bc0-3833-4252-9c25-47e1d8c3b9ac"
      },
      "source": [
        "x = np.array([[1,2],[3,4]])\n",
        "\n",
        "print(np.sum(x))  # Compute sum of all elements; prints \"10\"\n",
        "print(np.sum(x, axis=0))  # Compute sum of each column; prints \"[4 6]\"\n",
        "print(np.sum(x, axis=1))  # Compute sum of each row; prints \"[3 7]\"\n"
      ],
      "execution_count": 97,
      "outputs": [
        {
          "output_type": "stream",
          "text": [
            "10\n",
            "[4 6]\n",
            "[3 7]\n"
          ],
          "name": "stdout"
        }
      ]
    },
    {
      "cell_type": "markdown",
      "metadata": {
        "id": "r-Aw7N5aQ0F4",
        "colab_type": "text"
      },
      "source": [
        "You can also transpose a matrix by simply using `T` attribute of an array object"
      ]
    },
    {
      "cell_type": "code",
      "metadata": {
        "id": "G_Ck9n7PQzWf",
        "colab_type": "code",
        "colab": {
          "base_uri": "https://localhost:8080/",
          "height": 119
        },
        "outputId": "9c137112-0e15-43aa-a8ba-d90edfc7612c"
      },
      "source": [
        "x = np.array([[1, 2], [3, 4]])\n",
        "print(x)\n",
        "print(x.T)\n",
        "\n",
        "v = np.array([1, 2, 3])\n",
        "print(v)\n",
        "print(v.T)\n"
      ],
      "execution_count": 99,
      "outputs": [
        {
          "output_type": "stream",
          "text": [
            "[[1 2]\n",
            " [3 4]]\n",
            "[[1 3]\n",
            " [2 4]]\n",
            "[1 2 3]\n",
            "[1 2 3]\n"
          ],
          "name": "stdout"
        }
      ]
    }
  ]
}