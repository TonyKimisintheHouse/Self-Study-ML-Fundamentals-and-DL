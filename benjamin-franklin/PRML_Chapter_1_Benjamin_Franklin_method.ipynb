{
  "nbformat": 4,
  "nbformat_minor": 0,
  "metadata": {
    "colab": {
      "name": "PRML Chapter 1 - Benjamin Franklin method",
      "provenance": [],
      "authorship_tag": "ABX9TyMjaVGtsL99MDEjcOsRb+mo",
      "include_colab_link": true
    },
    "kernelspec": {
      "name": "python3",
      "display_name": "Python 3"
    }
  },
  "cells": [
    {
      "cell_type": "markdown",
      "metadata": {
        "id": "view-in-github",
        "colab_type": "text"
      },
      "source": [
        "<a href=\"https://colab.research.google.com/github/TonyKimisintheHouse/Self-Study-ML-Fundamentals-and-DL/blob/master/benjamin-franklin/PRML_Chapter_1_Benjamin_Franklin_method.ipynb\" target=\"_parent\"><img src=\"https://colab.research.google.com/assets/colab-badge.svg\" alt=\"Open In Colab\"/></a>"
      ]
    },
    {
      "cell_type": "code",
      "metadata": {
        "id": "Vj-0mErW7oG4",
        "colab_type": "code",
        "colab": {}
      },
      "source": [
        "# PRML Chapter 1 - My attempt of Benjamin Franklin method"
      ],
      "execution_count": 0,
      "outputs": []
    },
    {
      "cell_type": "markdown",
      "metadata": {
        "id": "T6DYkkh18Dh_",
        "colab_type": "text"
      },
      "source": [
        "*About this time I met with [an odd volume of the Spectator](https://github.com/ctgk/PRML). It was the third. I had never before seen any of them. I bought it, read it over and over, and was much delighted with it. I thought the writing excellent, and wished, if possible, to imitate it. With this view I took some of the papers, and, making short hints of the sentiment in each sentence, laid them by a few days, and then, without looking at the book, try'd to complete the papers again, by expressing each hinted sentiment at length, and as fully as it had been expressed before, in any suitable words that should come to hand. Then I compared my Spectator with the original, discovered some of my faults, and corrected them.*\n",
        "\n",
        "(Franklin, autobiography)"
      ]
    },
    {
      "cell_type": "markdown",
      "metadata": {
        "id": "l4iMGSxQ7-bH",
        "colab_type": "text"
      },
      "source": [
        "Short hints will include libraries used. Reading the documentations is also allowed."
      ]
    },
    {
      "cell_type": "code",
      "metadata": {
        "id": "jIEEsX0B8AQt",
        "colab_type": "code",
        "colab": {}
      },
      "source": [
        "import functools\n",
        "import itertools\n",
        "import numpy as np\n",
        "import matplotlib.pyplot as plt\n",
        "%matplotlib inline\n",
        "\n",
        "np.random.seed(123)"
      ],
      "execution_count": 0,
      "outputs": []
    },
    {
      "cell_type": "code",
      "metadata": {
        "id": "HRWD9QHC9Mcd",
        "colab_type": "code",
        "colab": {}
      },
      "source": [
        ""
      ],
      "execution_count": 0,
      "outputs": []
    }
  ]
}